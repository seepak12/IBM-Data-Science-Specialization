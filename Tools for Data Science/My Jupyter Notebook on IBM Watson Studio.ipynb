{
    "cells": [
        {
            "cell_type": "markdown",
            "metadata": {
                "collapsed": true
            },
            "source": "# My Jupyter Notebook on IBM Watson Studio"
        },
        {
            "cell_type": "markdown",
            "metadata": {},
            "source": "**Seepak Kumar**\n\n(1/((.7*.7)/(7*7)))% Human "
        },
        {
            "cell_type": "markdown",
            "metadata": {},
            "source": "_I am interested in Data Science because I love to retain insights from data_"
        },
        {
            "cell_type": "markdown",
            "metadata": {},
            "source": "### The following code does the multiplication"
        },
        {
            "cell_type": "code",
            "execution_count": 1,
            "metadata": {},
            "outputs": [
                {
                    "data": {
                        "text/plain": "6624"
                    },
                    "execution_count": 1,
                    "metadata": {},
                    "output_type": "execute_result"
                }
            ],
            "source": "69*96"
        },
        {
            "cell_type": "markdown",
            "metadata": {},
            "source": "### The following code tests the Gauss formula"
        },
        {
            "cell_type": "code",
            "execution_count": 2,
            "metadata": {},
            "outputs": [
                {
                    "name": "stdout",
                    "output_type": "stream",
                    "text": "5050.0\n"
                },
                {
                    "data": {
                        "text/plain": "True"
                    },
                    "execution_count": 2,
                    "metadata": {},
                    "output_type": "execute_result"
                }
            ],
            "source": "def gauss(n):\n    return (n*(n+1))/2\nprint(gauss(100))\ngauss(100) == sum(range(101))"
        },
        {
            "cell_type": "markdown",
            "metadata": {},
            "source": "* one\n* two\n* three\n\nThree or more...\n\n---\n\nHyphens\n\n***\n\nAsterisks\n\n___\n\nUnderscores\n\nMarkdown | More | Pretty\n--- | --- | ---\n*Still* | `renders` | **nicely**\n1 | 2 | 3"
        },
        {
            "cell_type": "code",
            "execution_count": null,
            "metadata": {},
            "outputs": [],
            "source": ""
        }
    ],
    "metadata": {
        "kernelspec": {
            "display_name": "Python 3.8",
            "language": "python",
            "name": "python3"
        },
        "language_info": {
            "codemirror_mode": {
                "name": "ipython",
                "version": 3
            },
            "file_extension": ".py",
            "mimetype": "text/x-python",
            "name": "python",
            "nbconvert_exporter": "python",
            "pygments_lexer": "ipython3",
            "version": "3.8.12"
        }
    },
    "nbformat": 4,
    "nbformat_minor": 1
}
